{
 "cells": [
  {
   "cell_type": "code",
   "execution_count": 1,
   "id": "7791e5c3",
   "metadata": {},
   "outputs": [
    {
     "data": {
      "text/plain": [
       "row_n           0\n",
       "id              1\n",
       "name            0\n",
       "gender          0\n",
       "species         0\n",
       "birthday        0\n",
       "personality     0\n",
       "song           11\n",
       "phrase          0\n",
       "full_id         0\n",
       "url             0\n",
       "dtype: int64"
      ]
     },
     "execution_count": 1,
     "metadata": {},
     "output_type": "execute_result"
    }
   ],
   "source": [
    "import pandas as pd\n",
    "url = \"https://raw.githubusercontent.com/rfordatascience/tidytuesday/master/data/2020/2020-05-05/villagers.csv\"\n",
    "df = pd.read_csv(url)\n",
    "df.isna().sum()"
   ]
  },
  {
   "cell_type": "code",
   "execution_count": 2,
   "id": "320c8b24",
   "metadata": {},
   "outputs": [
    {
     "data": {
      "text/plain": [
       "False"
      ]
     },
     "execution_count": 2,
     "metadata": {},
     "output_type": "execute_result"
    }
   ],
   "source": [
    "pd.isnull(url)"
   ]
  },
  {
   "cell_type": "code",
   "execution_count": 3,
   "id": "fc7ef441",
   "metadata": {},
   "outputs": [
    {
     "data": {
      "text/plain": [
       "row_n           0\n",
       "id              1\n",
       "name            0\n",
       "gender          0\n",
       "species         0\n",
       "birthday        0\n",
       "personality     0\n",
       "song           11\n",
       "phrase          0\n",
       "full_id         0\n",
       "url             0\n",
       "dtype: int64"
      ]
     },
     "execution_count": 3,
     "metadata": {},
     "output_type": "execute_result"
    }
   ],
   "source": [
    "import pandas as pd\n",
    "drink = \"https://raw.githubusercontent.com/rfordatascience/tidytuesday/master/data/2020/2020-05-05/villagers.csv\"\n",
    "df = pd.read_csv(drink)\n",
    "df.isna().sum()"
   ]
  },
  {
   "cell_type": "code",
   "execution_count": 4,
   "id": "5dccb5ae",
   "metadata": {},
   "outputs": [
    {
     "data": {
      "text/plain": [
       "Index(['row_n', 'id', 'name', 'gender', 'species', 'birthday', 'personality',\n",
       "       'song', 'phrase', 'full_id', 'url'],\n",
       "      dtype='object')"
      ]
     },
     "execution_count": 4,
     "metadata": {},
     "output_type": "execute_result"
    }
   ],
   "source": [
    "df.columns\n"
   ]
  },
  {
   "cell_type": "code",
   "execution_count": 5,
   "id": "a3a68d25",
   "metadata": {},
   "outputs": [
    {
     "data": {
      "text/plain": [
       "(391, 11)"
      ]
     },
     "execution_count": 5,
     "metadata": {},
     "output_type": "execute_result"
    }
   ],
   "source": [
    "df.shape\n"
   ]
  },
  {
   "cell_type": "code",
   "execution_count": 7,
   "id": "8fb1db10",
   "metadata": {},
   "outputs": [
    {
     "ename": "SyntaxError",
     "evalue": "invalid decimal literal (1320060950.py, line 1)",
     "output_type": "error",
     "traceback": [
      "\u001b[0;36m  Cell \u001b[0;32mIn[7], line 1\u001b[0;36m\u001b[0m\n\u001b[0;31m    https://chatgpt.com/share/66e3768c-72f8-800b-9f43-cc8958562add\u001b[0m\n\u001b[0m                                    ^\u001b[0m\n\u001b[0;31mSyntaxError\u001b[0m\u001b[0;31m:\u001b[0m invalid decimal literal\n"
     ]
    }
   ],
   "source": [
    "https://chatgpt.com/share/66e3768c-72f8-800b-9f43-cc8958562add"
   ]
  },
  {
   "cell_type": "code",
   "execution_count": 8,
   "id": "abb362ef",
   "metadata": {},
   "outputs": [
    {
     "ename": "SyntaxError",
     "evalue": "invalid syntax (4191110999.py, line 1)",
     "output_type": "error",
     "traceback": [
      "\u001b[0;36m  Cell \u001b[0;32mIn[8], line 1\u001b[0;36m\u001b[0m\n\u001b[0;31m    Observations are represented the same as columns and variables are represented the same as rows\u001b[0m\n\u001b[0m                 ^\u001b[0m\n\u001b[0;31mSyntaxError\u001b[0m\u001b[0;31m:\u001b[0m invalid syntax\n"
     ]
    }
   ],
   "source": [
    "Observations are represented the same as columns and variables are represented the same as rows"
   ]
  },
  {
   "cell_type": "code",
   "execution_count": 9,
   "id": "fd8eee34",
   "metadata": {},
   "outputs": [
    {
     "data": {
      "text/plain": [
       "(Index(['row_n', 'id', 'name', 'gender', 'species', 'birthday', 'personality',\n",
       "        'song', 'phrase', 'full_id', 'url'],\n",
       "       dtype='object'),\n",
       " 391)"
      ]
     },
     "execution_count": 9,
     "metadata": {},
     "output_type": "execute_result"
    }
   ],
   "source": [
    "import pandas as pd\n",
    "\n",
    "# Load the dataset from the URL\n",
    "url = \"https://raw.githubusercontent.com/rfordatascience/tidytuesday/master/data/2020/2020-05-05/villagers.csv\"\n",
    "villagers_df = pd.read_csv(url)\n",
    "\n",
    "# Get the column names and number of rows\n",
    "columns = villagers_df.columns\n",
    "num_rows = villagers_df.shape[0]\n",
    "\n",
    "columns, num_rows"
   ]
  },
  {
   "cell_type": "code",
   "execution_count": 10,
   "id": "6727123d",
   "metadata": {},
   "outputs": [
    {
     "data": {
      "text/plain": [
       "survived         0\n",
       "pclass           0\n",
       "sex              0\n",
       "age            177\n",
       "sibsp            0\n",
       "parch            0\n",
       "fare             0\n",
       "embarked         2\n",
       "class            0\n",
       "who              0\n",
       "adult_male       0\n",
       "deck           688\n",
       "embark_town      2\n",
       "alive            0\n",
       "alone            0\n",
       "dtype: int64"
      ]
     },
     "execution_count": 10,
     "metadata": {},
     "output_type": "execute_result"
    }
   ],
   "source": [
    "import pandas as pd\n",
    "P =  \"https://raw.githubusercontent.com/mwaskom/seaborn-data/master/titanic.csv\"\n",
    "df = pd.read_csv(P)\n",
    "df.isna().sum()"
   ]
  },
  {
   "cell_type": "code",
   "execution_count": 11,
   "id": "1ebb89ca",
   "metadata": {},
   "outputs": [
    {
     "data": {
      "text/plain": [
       "(891, 15)"
      ]
     },
     "execution_count": 11,
     "metadata": {},
     "output_type": "execute_result"
    }
   ],
   "source": [
    "df.shape\n"
   ]
  },
  {
   "cell_type": "code",
   "execution_count": 3,
   "id": "830906cd",
   "metadata": {},
   "outputs": [
    {
     "ename": "SyntaxError",
     "evalue": "invalid syntax (1475436060.py, line 1)",
     "output_type": "error",
     "traceback": [
      "\u001b[0;36m  Cell \u001b[0;32mIn[3], line 1\u001b[0;36m\u001b[0m\n\u001b[0;31m    df. The shape reflects the total number of columns in the data set, including non-numeric columns.\u001b[0m\n\u001b[0m            ^\u001b[0m\n\u001b[0;31mSyntaxError\u001b[0m\u001b[0;31m:\u001b[0m invalid syntax\n"
     ]
    }
   ],
   "source": [
    "df. The shape reflects the total number of columns in the data set, including non-numeric columns.\n",
    "Df.describe() reports only numeric columns\n",
    "\n",
    "df. Shape reflects the total number of rows, including those with missing values.\n",
    "Df.describe() shows the number of non-missing values"
   ]
  },
  {
   "cell_type": "code",
   "execution_count": 4,
   "id": "5d1ebc5e",
   "metadata": {},
   "outputs": [
    {
     "ename": "SyntaxError",
     "evalue": "invalid decimal literal (512180491.py, line 19)",
     "output_type": "error",
     "traceback": [
      "\u001b[0;36m  Cell \u001b[0;32mIn[4], line 19\u001b[0;36m\u001b[0m\n\u001b[0;31m    Definition :25% of the data is below this value. It is the 25th percentile of the data distribution.\u001b[0m\n\u001b[0m                                                                ^\u001b[0m\n\u001b[0;31mSyntaxError\u001b[0m\u001b[0;31m:\u001b[0m invalid decimal literal\n"
     ]
    }
   ],
   "source": [
    "Number:\n",
    "\n",
    "Definition: The number of non-empty entries (observations) for each variable in the data set.\n",
    "Purpose: To help understand how many values are present and if there are any missing values.\n",
    "This means:\n",
    "\n",
    "Definition: The average of all values of a variable. It is calculated as the sum of all values divided by the count of the values.\n",
    "Objective: To provide a measure of the trend of data centralization.\n",
    "Standard deviation:\n",
    "\n",
    "Definition: A measure of the amount of change or dispersion in the value of a variable. It quantifies the average distance of each value from the mean.\n",
    "Purpose: To help understand the propagation or variability of data.\n",
    "Min. :\n",
    "\n",
    "Definition: The minimum value of a variable in a data set.\n",
    "Purpose: To represent the lower boundary of the data range.\n",
    "25%(first quartile, Q1):\n",
    "\n",
    "Definition :25% of the data is below this value. It is the 25th percentile of the data distribution.\n",
    "Objective: To provide insight into the lower part of the data distribution.\n",
    "50%(median or second quartile, Q2):\n",
    "\n",
    "Definition: The middle value of a data set when sorted in ascending order. Half of the data values are below this point and half are above this point.\n",
    "Objective: To measure the central point of the data and provide a robust indicator of the central tendency.\n",
    "75%(third quartile, Q3):\n",
    "\n",
    "Definition :75% of the data falls on the following values. It is the 75th percentile of the data distribution.\n",
    "Objective: To provide insight into the top half of the data distribution.\n",
    "Max:\n",
    "\n",
    "Definition: The maximum value of a variable in a data set.\n",
    "Purpose: Specify the upper boundary of the data range.\n",
    " "
   ]
  },
  {
   "cell_type": "code",
   "execution_count": 5,
   "id": "14bb3e77",
   "metadata": {},
   "outputs": [
    {
     "ename": "SyntaxError",
     "evalue": "invalid decimal literal (130506808.py, line 1)",
     "output_type": "error",
     "traceback": [
      "\u001b[0;36m  Cell \u001b[0;32mIn[5], line 1\u001b[0;36m\u001b[0m\n\u001b[0;31m    https://chatgpt.com/share/66e37573-8964-800b-b9bd-180827daa496\u001b[0m\n\u001b[0m                                              ^\u001b[0m\n\u001b[0;31mSyntaxError\u001b[0m\u001b[0;31m:\u001b[0m invalid decimal literal\n"
     ]
    }
   ],
   "source": [
    "https://chatgpt.com/share/66e37573-8964-800b-b9bd-180827daa496"
   ]
  },
  {
   "cell_type": "code",
   "execution_count": 6,
   "id": "2acc3261",
   "metadata": {},
   "outputs": [
    {
     "ename": "SyntaxError",
     "evalue": "unterminated string literal (detected at line 29) (4136962862.py, line 29)",
     "output_type": "error",
     "traceback": [
      "\u001b[0;36m  Cell \u001b[0;32mIn[6], line 29\u001b[0;36m\u001b[0m\n\u001b[0;31m    ChatBot: Might need clarification if the filename error isn't immediately clear.\u001b[0m\n\u001b[0m                                                               ^\u001b[0m\n\u001b[0;31mSyntaxError\u001b[0m\u001b[0;31m:\u001b[0m unterminated string literal (detected at line 29)\n"
     ]
    }
   ],
   "source": [
    "Understanding df.groupby(\"col1\")[\"col2\"].describe()\n",
    "Explanation:\n",
    "\n",
    "df.groupby(\"col1\") groups the DataFrame df by unique values in column \"col1\".\n",
    "[\"col2\"] selects column \"col2\" from these groups.\n",
    ".describe() provides a summary of statistics (like count, mean, std, min, etc.) for column \"col2\" within each group.\n",
    "Handling Missing Values in df.describe()\n",
    "Explanation:\n",
    "\n",
    "df.describe() provides summary statistics for each column, excluding NaN values.\n",
    "The count in df.describe() shows the number of non-missing values for each column.\n",
    "When using df.groupby(\"col1\")[\"col2\"].describe(), the count reflects the number of non-missing values in \"col2\" for each group defined by \"col1\".  This can be different from the overall count in df.describe() because it is specific to each group.\n",
    "\n",
    "Troubleshooting Errors\n",
    "1.  Missing import pandas as pd:\n",
    "\n",
    "Error: NameError: name 'pd' is not defined\n",
    "\n",
    "ChatBot vs. Google:\n",
    "\n",
    "ChatBot: Can quickly identify and point out missing imports if provided the exact error.\n",
    "Google: Can also resolve this efficiently, often with immediate context about the error.\n",
    "2.  Mistyping Filename:\n",
    "\n",
    "Error: FileNotFoundError: [Errno 2] No such file or directory: 'titanics.csv'\n",
    "\n",
    "ChatBot vs. Google:\n",
    "\n",
    "ChatBot: Might need clarification if the filename error isn't immediately clear.\n",
    "Google: Easily finds solutions by searching for the specific error message.\n",
    "3.  Typos in URL:\n",
    "\n",
    "Errors: Different errors depending on the typo, e.g., 404 Not Found or FileNotFoundError.\n",
    "\n",
    "ChatBot vs. Google:\n",
    "\n",
    "ChatBot: Can assist if you explain the context of the URL error.\n",
    "Google: Provides specific troubleshooting guides based on the exact URL error.\n",
    "4.  Using a DataFrame Before Assignment:\n",
    "\n",
    "Error: NameError: name 'df' is not defined if using DF or similar.\n",
    "\n",
    "ChatBot vs. Google:\n",
    "\n",
    "ChatBot: Can recognize undefined variable issues if provided the exact error.\n",
    "Google: Similar to ChatBot, but you may need to find guides for variable name errors.\n",
    "5.  Missing Parentheses:\n",
    "\n",
    "Error: TypeError or syntax error indicating an unexpected token.\n",
    "\n",
    "ChatBot vs. Google:\n",
    "\n",
    "ChatBot: Can guide you in checking syntax if given the context.\n",
    "Google: Quick searches reveal syntax rules and common mistakes.\n",
    "6.  Typo in Function Name:\n",
    "\n",
    "Error: AttributeError or similar indicating the function does not exist.\n",
    "\n",
    "ChatBot vs. Google:\n",
    "\n",
    "ChatBot: Can help identify the function typo if described.\n",
    "Google: Provides direct solutions and documentation on function names.\n",
    "7.  Incorrect Column Name or Missing Quotes:\n",
    "\n",
    "Error: KeyError for invalid column names or SyntaxError for missing quotes.\n",
    "\n",
    "ChatBot vs. Google:\n",
    "\n",
    "ChatBot: Can help correct column names if you provide context.\n",
    "Google: Easily identifies common mistakes with column names or quotes.\n",
    "    "
   ]
  },
  {
   "cell_type": "code",
   "execution_count": null,
   "id": "c5ae45c0",
   "metadata": {},
   "outputs": [],
   "source": [
    "I didn't read a textbook, I did interact with chatgpt"
   ]
  }
 ],
 "metadata": {
  "kernelspec": {
   "display_name": "Python 3 (ipykernel)",
   "language": "python",
   "name": "python3"
  },
  "language_info": {
   "codemirror_mode": {
    "name": "ipython",
    "version": 3
   },
   "file_extension": ".py",
   "mimetype": "text/x-python",
   "name": "python",
   "nbconvert_exporter": "python",
   "pygments_lexer": "ipython3",
   "version": "3.11.6"
  }
 },
 "nbformat": 4,
 "nbformat_minor": 5
}
